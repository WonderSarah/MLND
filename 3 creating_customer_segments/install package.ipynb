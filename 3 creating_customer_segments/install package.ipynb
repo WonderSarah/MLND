{
 "cells": [
  {
   "cell_type": "code",
   "execution_count": 8,
   "metadata": {
    "collapsed": false
   },
   "outputs": [
    {
     "name": "stdout",
     "output_type": "stream",
     "text": [
      "Collecting BeautifulSoup\n",
      "  Downloading BeautifulSoup-3.2.1.tar.gz\n",
      "Building wheels for collected packages: BeautifulSoup\n",
      "  Running setup.py bdist_wheel for BeautifulSoup: started\n",
      "  Running setup.py bdist_wheel for BeautifulSoup: finished with status 'done'\n",
      "  Stored in directory: C:\\Users\\LocalAccount\\AppData\\Local\\pip\\Cache\\wheels\\5e\\be\\6d\\ed01d5d434a821557b674c9da976f60b1b93d9009447eb9d16\n",
      "Successfully built BeautifulSoup\n",
      "Installing collected packages: BeautifulSoup\n",
      "Successfully installed BeautifulSoup-3.2.1\n"
     ]
    }
   ],
   "source": [
    "import pip    \n",
    "def install(package):\n",
    "   pip.main(['install', package])\n",
    "\n",
    "install('BeautifulSoup')"
   ]
  },
  {
   "cell_type": "code",
   "execution_count": 5,
   "metadata": {
    "collapsed": false
   },
   "outputs": [
    {
     "name": "stdout",
     "output_type": "stream",
     "text": [
      "Collecting seaborn\n",
      "  Downloading seaborn-0.7.1.tar.gz (158kB)\n",
      "Building wheels for collected packages: seaborn\n",
      "  Running setup.py bdist_wheel for seaborn: started\n",
      "  Running setup.py bdist_wheel for seaborn: finished with status 'done'\n",
      "  Stored in directory: C:\\Users\\LocalAccount\\AppData\\Local\\pip\\Cache\\wheels\\cb\\c8\\67\\83d615c0ef9b529558525aa521025b183de8c5b156799b091e\n",
      "Successfully built seaborn\n",
      "Installing collected packages: seaborn\n",
      "Successfully installed seaborn-0.7.1\n"
     ]
    }
   ],
   "source": [
    "import pip    \n",
    "def install(package):\n",
    "   pip.main(['install', package])\n",
    "\n",
    "install('seaborn')"
   ]
  },
  {
   "cell_type": "code",
   "execution_count": 6,
   "metadata": {
    "collapsed": false
   },
   "outputs": [
    {
     "name": "stdout",
     "output_type": "stream",
     "text": [
      "Collecting pattern\n",
      "  Downloading pattern-2.6.zip (24.6MB)\n",
      "Building wheels for collected packages: pattern\n",
      "  Running setup.py bdist_wheel for pattern: started\n",
      "  Running setup.py bdist_wheel for pattern: finished with status 'done'\n",
      "  Stored in directory: C:\\Users\\LocalAccount\\AppData\\Local\\pip\\Cache\\wheels\\88\\c3\\56\\c85103e2876796af4a892df2367a879007d36d74511bf47d42\n",
      "Successfully built pattern\n",
      "Installing collected packages: pattern\n",
      "Successfully installed pattern-2.6\n"
     ]
    }
   ],
   "source": [
    "import pip    \n",
    "def install(package):\n",
    "   pip.main(['install', package])\n",
    "\n",
    "install('pattern')"
   ]
  },
  {
   "cell_type": "code",
   "execution_count": 7,
   "metadata": {
    "collapsed": false
   },
   "outputs": [
    {
     "name": "stdout",
     "output_type": "stream",
     "text": [
      "Collecting mrjob\n",
      "  Downloading mrjob-0.5.6-py2.py3-none-any.whl (285kB)\n",
      "Requirement already satisfied (use --upgrade to upgrade): PyYAML>=3.08 in e:\\program files\\anaconda2\\lib\\site-packages (from mrjob)\n",
      "Requirement already satisfied (use --upgrade to upgrade): boto>=2.35.0 in e:\\program files\\anaconda2\\lib\\site-packages (from mrjob)\n",
      "Collecting google-api-python-client>=1.5.0 (from mrjob)\n",
      "  Downloading google_api_python_client-1.5.3-py2.py3-none-any.whl (50kB)\n",
      "Collecting filechunkio (from mrjob)\n",
      "  Downloading filechunkio-1.8.tar.gz\n",
      "Requirement already satisfied (use --upgrade to upgrade): six<2,>=1.6.1 in e:\\program files\\anaconda2\\lib\\site-packages (from google-api-python-client>=1.5.0->mrjob)\n",
      "Collecting httplib2<1,>=0.8 (from google-api-python-client>=1.5.0->mrjob)\n",
      "  Downloading httplib2-0.9.2.zip (210kB)\n",
      "Collecting oauth2client<4.0.0,>=1.5.0 (from google-api-python-client>=1.5.0->mrjob)\n",
      "  Downloading oauth2client-3.0.0.tar.gz (77kB)\n",
      "Collecting uritemplate<1,>=0.6 (from google-api-python-client>=1.5.0->mrjob)\n",
      "  Downloading uritemplate-0.6.tar.gz\n",
      "Requirement already satisfied (use --upgrade to upgrade): pyasn1>=0.1.7 in e:\\program files\\anaconda2\\lib\\site-packages (from oauth2client<4.0.0,>=1.5.0->google-api-python-client>=1.5.0->mrjob)\n",
      "Collecting pyasn1-modules>=0.0.5 (from oauth2client<4.0.0,>=1.5.0->google-api-python-client>=1.5.0->mrjob)\n",
      "  Downloading pyasn1_modules-0.0.8-py2.py3-none-any.whl\n",
      "Collecting rsa>=3.1.4 (from oauth2client<4.0.0,>=1.5.0->google-api-python-client>=1.5.0->mrjob)\n",
      "  Downloading rsa-3.4.2-py2.py3-none-any.whl (46kB)\n",
      "Collecting simplejson>=2.5.0 (from uritemplate<1,>=0.6->google-api-python-client>=1.5.0->mrjob)\n",
      "  Downloading simplejson-3.8.2-cp27-cp27m-win_amd64.whl (66kB)\n",
      "Building wheels for collected packages: filechunkio, httplib2, oauth2client, uritemplate\n",
      "  Running setup.py bdist_wheel for filechunkio: started\n",
      "  Running setup.py bdist_wheel for filechunkio: finished with status 'done'\n",
      "  Stored in directory: C:\\Users\\LocalAccount\\AppData\\Local\\pip\\Cache\\wheels\\26\\ae\\6a\\d93b918a6a07a0afab4b1c51681047657d1300160ab7045565\n",
      "  Running setup.py bdist_wheel for httplib2: started\n",
      "  Running setup.py bdist_wheel for httplib2: finished with status 'done'\n",
      "  Stored in directory: C:\\Users\\LocalAccount\\AppData\\Local\\pip\\Cache\\wheels\\c7\\67\\60\\e0be8ccfc1e08f8ff1f50d99ea5378e204580ea77b0169fb55\n",
      "  Running setup.py bdist_wheel for oauth2client: started\n",
      "  Running setup.py bdist_wheel for oauth2client: finished with status 'done'\n",
      "  Stored in directory: C:\\Users\\LocalAccount\\AppData\\Local\\pip\\Cache\\wheels\\b3\\44\\e9\\e56c5a2ca8869305f38254df012fb16b2807eb9d5d55291e8b\n",
      "  Running setup.py bdist_wheel for uritemplate: started\n",
      "  Running setup.py bdist_wheel for uritemplate: finished with status 'done'\n",
      "  Stored in directory: C:\\Users\\LocalAccount\\AppData\\Local\\pip\\Cache\\wheels\\2d\\dc\\57\\124fcb62028d04cf74f6c7f5261f5deb29b3f6022eec179064\n",
      "Successfully built filechunkio httplib2 oauth2client uritemplate\n",
      "Installing collected packages: httplib2, pyasn1-modules, rsa, oauth2client, simplejson, uritemplate, google-api-python-client, filechunkio, mrjob\n",
      "Successfully installed filechunkio-1.8 google-api-python-client-1.5.3 httplib2-0.9.2 mrjob-0.5.6 oauth2client-3.0.0 pyasn1-modules-0.0.8 rsa-3.4.2 simplejson-3.8.2 uritemplate-0.6\n"
     ]
    }
   ],
   "source": [
    "import pip    \n",
    "def install(package):\n",
    "   pip.main(['install', package])\n",
    "\n",
    "install('mrjob')"
   ]
  }
 ],
 "metadata": {
  "kernelspec": {
   "display_name": "Python [Root]",
   "language": "python",
   "name": "Python [Root]"
  }
 },
 "nbformat": 4,
 "nbformat_minor": 0
}
